{
 "cells": [
  {
   "cell_type": "code",
   "execution_count": 1,
   "id": "47f46a4e",
   "metadata": {},
   "outputs": [],
   "source": [
    "# Imports\n",
    "import pandas as pd\n",
    "from pathlib import Path\n",
    "import matplotlib.pyplot as plt\n",
    "import seaborn as sns\n",
    "import joblib\n",
    "import numpy as np\n",
    "\n",
    "from sklearn.ensemble import RandomForestClassifier, GradientBoostingClassifier\n",
    "from sklearn.svm import SVC\n",
    "from xgboost import XGBClassifier\n",
    "\n",
    "from sklearn.model_selection import StratifiedKFold, RandomizedSearchCV\n",
    "from sklearn.metrics import accuracy_score, classification_report, confusion_matrix\n"
   ]
  },
  {
   "cell_type": "code",
   "execution_count": 2,
   "id": "9edfc063",
   "metadata": {},
   "outputs": [
    {
     "name": "stdout",
     "output_type": "stream",
     "text": [
      "Train shape: (480, 5)\n",
      "Test shape: (120, 5)\n"
     ]
    }
   ],
   "source": [
    "# Load train/test data\n",
    "train_df = pd.read_csv(Path(\"../data/processed/train.csv\"))\n",
    "test_df = pd.read_csv(Path(\"../data/processed/test.csv\"))\n",
    "\n",
    "target_col = \"dropout_risk\"\n",
    "X_train = train_df.drop(columns=[target_col])\n",
    "y_train = train_df[target_col]\n",
    "X_test = test_df.drop(columns=[target_col])\n",
    "y_test = test_df[target_col]\n",
    "\n",
    "print(\"Train shape:\", train_df.shape)\n",
    "print(\"Test shape:\", test_df.shape)\n"
   ]
  },
  {
   "cell_type": "code",
   "execution_count": 3,
   "id": "a62e5d94",
   "metadata": {},
   "outputs": [],
   "source": [
    "# Define models\n",
    "models = {\n",
    "    \"RandomForest\": RandomForestClassifier(random_state=42),\n",
    "    \"GradientBoosting\": GradientBoostingClassifier(random_state=42),\n",
    "    \"SVM\": SVC(probability=True, random_state=42),\n",
    "    \"XGBoost\": XGBClassifier(use_label_encoder=False, eval_metric=\"logloss\", random_state=42)\n",
    "}\n"
   ]
  },
  {
   "cell_type": "code",
   "execution_count": 4,
   "id": "e0d5d6e8",
   "metadata": {},
   "outputs": [],
   "source": [
    "# Define hyperparameter grids\n",
    "param_grids = {\n",
    "    \"RandomForest\": {\n",
    "        \"n_estimators\": [100, 200, 500],\n",
    "        \"max_depth\": [None, 5, 10, 20],\n",
    "        \"min_samples_split\": [2, 5, 10],\n",
    "        \"min_samples_leaf\": [1, 2, 4]\n",
    "    },\n",
    "    \"GradientBoosting\": {\n",
    "        \"n_estimators\": [100, 200],\n",
    "        \"learning_rate\": [0.01, 0.05, 0.1],\n",
    "        \"max_depth\": [3, 5, 7]\n",
    "    },\n",
    "    \"SVM\": {\n",
    "        \"C\": [0.1, 1, 10],\n",
    "        \"kernel\": [\"linear\", \"rbf\"],\n",
    "        \"gamma\": [\"scale\", \"auto\"]\n",
    "    },\n",
    "    \"XGBoost\": {\n",
    "        \"n_estimators\": [100, 200],\n",
    "        \"max_depth\": [3, 5, 7],\n",
    "        \"learning_rate\": [0.01, 0.1, 0.2],\n",
    "        \"subsample\": [0.8, 1.0],\n",
    "        \"colsample_bytree\": [0.8, 1.0]\n",
    "    }\n",
    "}\n"
   ]
  },
  {
   "cell_type": "code",
   "execution_count": 5,
   "id": "1e004706",
   "metadata": {},
   "outputs": [
    {
     "name": "stdout",
     "output_type": "stream",
     "text": [
      "🔍 Tuning RandomForest...\n",
      "Fitting 3 folds for each of 10 candidates, totalling 30 fits\n",
      "✅ RandomForest Best Params: {'n_estimators': 500, 'min_samples_split': 5, 'min_samples_leaf': 4, 'max_depth': 10}\n",
      "CV Score: 0.998, Test Acc: 0.992\n",
      "\n",
      "🔍 Tuning GradientBoosting...\n",
      "Fitting 3 folds for each of 10 candidates, totalling 30 fits\n",
      "✅ GradientBoosting Best Params: {'n_estimators': 100, 'max_depth': 3, 'learning_rate': 0.01}\n",
      "CV Score: 0.994, Test Acc: 0.992\n",
      "\n",
      "🔍 Tuning SVM...\n",
      "Fitting 3 folds for each of 10 candidates, totalling 30 fits\n",
      "✅ SVM Best Params: {'kernel': 'rbf', 'gamma': 'scale', 'C': 10}\n",
      "CV Score: 0.990, Test Acc: 0.992\n",
      "\n",
      "🔍 Tuning XGBoost...\n",
      "Fitting 3 folds for each of 10 candidates, totalling 30 fits\n",
      "✅ XGBoost Best Params: {'subsample': 0.8, 'n_estimators': 100, 'max_depth': 5, 'learning_rate': 0.01, 'colsample_bytree': 0.8}\n",
      "CV Score: 0.998, Test Acc: 1.000\n",
      "\n"
     ]
    },
    {
     "name": "stderr",
     "output_type": "stream",
     "text": [
      "c:\\Users\\Admin\\Desktop\\EduLensModelTraining\\venv\\Lib\\site-packages\\xgboost\\training.py:183: UserWarning: [15:37:53] WARNING: C:\\actions-runner\\_work\\xgboost\\xgboost\\src\\learner.cc:738: \n",
      "Parameters: { \"use_label_encoder\" } are not used.\n",
      "\n",
      "  bst.update(dtrain, iteration=i, fobj=obj)\n"
     ]
    }
   ],
   "source": [
    "# Hyperparameter tuning and evaluation\n",
    "tuned_models = {}\n",
    "results = {}\n",
    "\n",
    "for name, model in models.items():\n",
    "    print(f\"🔍 Tuning {name}...\")\n",
    "    param_grid = param_grids[name]\n",
    "    \n",
    "    search = RandomizedSearchCV(\n",
    "        estimator=model,\n",
    "        param_distributions=param_grid,\n",
    "        n_iter=10,  # number of random combos\n",
    "        scoring=\"accuracy\",\n",
    "        cv=3,\n",
    "        random_state=42,\n",
    "        n_jobs=-1,\n",
    "        verbose=1\n",
    "    )\n",
    "    \n",
    "    search.fit(X_train, y_train)\n",
    "    \n",
    "    best_model = search.best_estimator_\n",
    "    tuned_models[name] = best_model\n",
    "    \n",
    "    y_pred = best_model.predict(X_test)\n",
    "    acc = accuracy_score(y_test, y_pred)\n",
    "    \n",
    "    results[name] = {\n",
    "        \"best_params\": search.best_params_,\n",
    "        \"cv_best_score\": search.best_score_,\n",
    "        \"test_acc\": acc\n",
    "    }\n",
    "    \n",
    "    print(f\"✅ {name} Best Params: {search.best_params_}\")\n",
    "    print(f\"CV Score: {search.best_score_:.3f}, Test Acc: {acc:.3f}\\n\")\n"
   ]
  },
  {
   "cell_type": "code",
   "execution_count": 6,
   "id": "e7335a24",
   "metadata": {},
   "outputs": [
    {
     "name": "stdout",
     "output_type": "stream",
     "text": [
      "                  Best CV Score  Test Accuracy\n",
      "RandomForest           0.997917       0.991667\n",
      "GradientBoosting       0.993750       0.991667\n",
      "SVM                    0.989583       0.991667\n",
      "XGBoost                0.997917       1.000000\n"
     ]
    },
    {
     "data": {
      "image/png": "[encoded data removed]",
      "text/plain": [
       "<Figure size 800x500 with 1 Axes>"
      ]
     },
     "metadata": {},
     "output_type": "display_data"
    }
   ],
   "source": [
    "# Compare results\n",
    "results_df = pd.DataFrame({\n",
    "    model: [results[model][\"cv_best_score\"], results[model][\"test_acc\"]]\n",
    "    for model in results\n",
    "}, index=[\"Best CV Score\", \"Test Accuracy\"]).T\n",
    "\n",
    "print(results_df)\n",
    "\n",
    "results_df.plot(kind=\"bar\", figsize=(8,5))\n",
    "plt.title(\"Tuned Model Comparison\")\n",
    "plt.ylabel(\"Accuracy\")\n",
    "plt.show()\n"
   ]
  },
  {
   "cell_type": "code",
   "execution_count": 7,
   "id": "437c16f4",
   "metadata": {},
   "outputs": [
    {
     "name": "stdout",
     "output_type": "stream",
     "text": [
      "🏆 Best tuned model (XGBoost) saved to ..\\models\\xgboost_tuned.pkl\n"
     ]
    }
   ],
   "source": [
    "# Save best model\n",
    "best_model_name = results_df[\"Test Accuracy\"].idxmax()\n",
    "best_model = tuned_models[best_model_name]\n",
    "\n",
    "model_path = Path(f\"../models/{best_model_name.lower()}_tuned.pkl\")\n",
    "model_path.parent.mkdir(parents=True, exist_ok=True)\n",
    "joblib.dump(best_model, model_path)\n",
    "\n",
    "print(f\"🏆 Best tuned model ({best_model_name}) saved to {model_path}\")\n"
   ]
  }
 ],
 "metadata": {
  "kernelspec": {
   "display_name": "venv (3.13.5)",
   "language": "python",
   "name": "python3"
  },
  "language_info": {
   "codemirror_mode": {
    "name": "ipython",
    "version": 3
   },
   "file_extension": ".py",
   "mimetype": "text/x-python",
   "name": "python",
   "nbconvert_exporter": "python",
   "pygments_lexer": "ipython3",
   "version": "3.13.5"
  }
 },
 "nbformat": 4,
 "nbformat_minor": 5
}
