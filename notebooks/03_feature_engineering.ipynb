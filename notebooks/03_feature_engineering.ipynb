{
 "cells": [
  {
   "cell_type": "code",
   "execution_count": 11,
   "id": "708be63b",
   "metadata": {},
   "outputs": [
    {
     "name": "stdout",
     "output_type": "stream",
     "text": [
      "attendance_percent      0\n",
      "test_score              0\n",
      "discipline_count        0\n",
      "parental_involvement    0\n",
      "dropout_risk            0\n",
      "dtype: int64\n"
     ]
    }
   ],
   "source": [
    "import pandas as pd\n",
    "from pathlib import Path\n",
    "from sklearn.preprocessing import StandardScaler\n",
    "from sklearn.model_selection import train_test_split\n",
    "\n",
    "# Load cleaned data from EDA\n",
    "FEATURES_PATH = Path(\"../data/processed/student_data_eda_cleaned.csv\")\n",
    "df = pd.read_csv(FEATURES_PATH)\n",
    "\n",
    "# Convert blank spaces to NaN\n",
    "df = df.replace(r'^\\s*$', pd.NA, regex=True)\n",
    "\n",
    "# Fill missing values\n",
    "df = df.fillna({\n",
    "    'attendance_percent': df['attendance_percent'].mean(),\n",
    "    'test_score': df['test_score'].mean(),\n",
    "    'discipline_count': 0, \n",
    "    'parental_involvement': df['parental_involvement'].mode()[0]\n",
    "})\n",
    "\n",
    "# Quick check\n",
    "print(df.isna().sum()) \n"
   ]
  },
  {
   "cell_type": "code",
   "execution_count": 12,
   "id": "0c31c2c9",
   "metadata": {},
   "outputs": [],
   "source": [
    "\n",
    "target_col = 'dropout_risk'\n",
    "X = df.drop(columns=[target_col])\n",
    "y = df[target_col]\n"
   ]
  },
  {
   "cell_type": "code",
   "execution_count": 13,
   "id": "89586a46",
   "metadata": {},
   "outputs": [
    {
     "name": "stdout",
     "output_type": "stream",
     "text": [
      "Feature matrix shape after encoding: (600, 4)\n"
     ]
    }
   ],
   "source": [
    "X = pd.get_dummies(X, drop_first=True)\n",
    "print(\"Feature matrix shape after encoding:\", X.shape)\n"
   ]
  },
  {
   "cell_type": "code",
   "execution_count": 14,
   "id": "6e718b61",
   "metadata": {},
   "outputs": [],
   "source": [
    "scaler = StandardScaler()\n",
    "numeric_cols = X.select_dtypes(include='number').columns\n",
    "X[numeric_cols] = scaler.fit_transform(X[numeric_cols])\n"
   ]
  },
  {
   "cell_type": "code",
   "execution_count": 15,
   "id": "ea2169b8",
   "metadata": {},
   "outputs": [
    {
     "name": "stdout",
     "output_type": "stream",
     "text": [
      "✅ Processed dataset saved to ..\\data\\processed\\student_features.csv\n"
     ]
    }
   ],
   "source": [
    "PROCESSED_PATH = Path(\"../data/processed/student_features.csv\")\n",
    "PROCESSED_PATH.parent.mkdir(parents=True, exist_ok=True)\n",
    "\n",
    "processed_df = pd.concat([X, y], axis=1)\n",
    "processed_df.to_csv(PROCESSED_PATH, index=False)\n",
    "\n",
    "print(f\"✅ Processed dataset saved to {PROCESSED_PATH}\")\n"
   ]
  },
  {
   "cell_type": "code",
   "execution_count": 16,
   "id": "30f4b3d2",
   "metadata": {},
   "outputs": [
    {
     "name": "stdout",
     "output_type": "stream",
     "text": [
      "✅ Train data saved to ..\\data\\processed\\train.csv\n",
      "✅ Test data saved to ..\\data\\processed\\test.csv\n"
     ]
    }
   ],
   "source": [
    "# -------------------------------\n",
    "# STEP 8: Train/Test split\n",
    "# -------------------------------\n",
    "X_train, X_test, y_train, y_test = train_test_split(\n",
    "    X, y, test_size=0.2, random_state=42, stratify=y\n",
    ")\n",
    "\n",
    "train_df = pd.concat([X_train, y_train], axis=1)\n",
    "test_df  = pd.concat([X_test, y_test], axis=1)\n",
    "\n",
    "train_path = Path(\"../data/processed/train.csv\")\n",
    "test_path  = Path(\"../data/processed/test.csv\")\n",
    "\n",
    "train_df.to_csv(train_path, index=False)\n",
    "test_df.to_csv(test_path, index=False)\n",
    "\n",
    "print(f\"✅ Train data saved to {train_path}\")\n",
    "print(f\"✅ Test data saved to {test_path}\")\n"
   ]
  },
  {
   "cell_type": "code",
   "execution_count": 17,
   "id": "fb650ae3",
   "metadata": {},
   "outputs": [
    {
     "name": "stdout",
     "output_type": "stream",
     "text": [
      "Train set: (480, 5)\n",
      "Test set: (120, 5)\n"
     ]
    },
    {
     "data": {
      "text/html": [
       "<div>\n",
       "<style scoped>\n",
       "    .dataframe tbody tr th:only-of-type {\n",
       "        vertical-align: middle;\n",
       "    }\n",
       "\n",
       "    .dataframe tbody tr th {\n",
       "        vertical-align: top;\n",
       "    }\n",
       "\n",
       "    .dataframe thead th {\n",
       "        text-align: right;\n",
       "    }\n",
       "</style>\n",
       "<table border=\"1\" class=\"dataframe\">\n",
       "  <thead>\n",
       "    <tr style=\"text-align: right;\">\n",
       "      <th></th>\n",
       "      <th>attendance_percent</th>\n",
       "      <th>test_score</th>\n",
       "      <th>discipline_count</th>\n",
       "      <th>parental_involvement</th>\n",
       "      <th>dropout_risk</th>\n",
       "    </tr>\n",
       "  </thead>\n",
       "  <tbody>\n",
       "    <tr>\n",
       "      <th>280</th>\n",
       "      <td>0.195251</td>\n",
       "      <td>2.351161</td>\n",
       "      <td>0.099109</td>\n",
       "      <td>1.342883</td>\n",
       "      <td>0</td>\n",
       "    </tr>\n",
       "    <tr>\n",
       "      <th>340</th>\n",
       "      <td>-0.863290</td>\n",
       "      <td>-1.411878</td>\n",
       "      <td>-0.533500</td>\n",
       "      <td>0.623481</td>\n",
       "      <td>1</td>\n",
       "    </tr>\n",
       "    <tr>\n",
       "      <th>571</th>\n",
       "      <td>1.763691</td>\n",
       "      <td>0.214176</td>\n",
       "      <td>-0.533500</td>\n",
       "      <td>1.342883</td>\n",
       "      <td>0</td>\n",
       "    </tr>\n",
       "    <tr>\n",
       "      <th>198</th>\n",
       "      <td>0.132684</td>\n",
       "      <td>-0.049152</td>\n",
       "      <td>0.731717</td>\n",
       "      <td>1.342883</td>\n",
       "      <td>1</td>\n",
       "    </tr>\n",
       "    <tr>\n",
       "      <th>518</th>\n",
       "      <td>0.179204</td>\n",
       "      <td>0.130772</td>\n",
       "      <td>-0.533500</td>\n",
       "      <td>-1.534724</td>\n",
       "      <td>0</td>\n",
       "    </tr>\n",
       "  </tbody>\n",
       "</table>\n",
       "</div>"
      ],
      "text/plain": [
       "     attendance_percent  test_score  discipline_count  parental_involvement  \\\n",
       "280            0.195251    2.351161          0.099109              1.342883   \n",
       "340           -0.863290   -1.411878         -0.533500              0.623481   \n",
       "571            1.763691    0.214176         -0.533500              1.342883   \n",
       "198            0.132684   -0.049152          0.731717              1.342883   \n",
       "518            0.179204    0.130772         -0.533500             -1.534724   \n",
       "\n",
       "     dropout_risk  \n",
       "280             0  \n",
       "340             1  \n",
       "571             0  \n",
       "198             1  \n",
       "518             0  "
      ]
     },
     "execution_count": 17,
     "metadata": {},
     "output_type": "execute_result"
    }
   ],
   "source": [
    "\n",
    "print(\"Train set:\", train_df.shape)\n",
    "print(\"Test set:\", test_df.shape)\n",
    "\n",
    "train_df.head()\n"
   ]
  }
 ],
 "metadata": {
  "kernelspec": {
   "display_name": "venv (3.13.5)",
   "language": "python",
   "name": "python3"
  },
  "language_info": {
   "codemirror_mode": {
    "name": "ipython",
    "version": 3
   },
   "file_extension": ".py",
   "mimetype": "text/x-python",
   "name": "python",
   "nbconvert_exporter": "python",
   "pygments_lexer": "ipython3",
   "version": "3.13.5"
  }
 },
 "nbformat": 4,
 "nbformat_minor": 5
}
